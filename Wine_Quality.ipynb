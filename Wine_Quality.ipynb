{
 "cells": [
  {
   "cell_type": "code",
   "execution_count": 23,
   "id": "51d5d54a-d7ac-4a8a-8d24-921c60a35b92",
   "metadata": {
    "tags": []
   },
   "outputs": [],
   "source": [
    "import numpy as np\n",
    "import pandas as pd\n",
    "import seaborn as sns\n",
    "import matplotlib.pyplot as plt\n"
   ]
  },
  {
   "cell_type": "code",
   "execution_count": 24,
   "id": "c451db98-52e7-4ab1-92c2-db1753b8e87a",
   "metadata": {
    "tags": []
   },
   "outputs": [],
   "source": [
    "df = pd.read_csv(\"winequality-red.csv\")"
   ]
  },
  {
   "cell_type": "code",
   "execution_count": 25,
   "id": "9fd8bff1-cf45-4eef-9942-18e865fa410a",
   "metadata": {
    "tags": []
   },
   "outputs": [
    {
     "data": {
      "text/html": [
       "<div>\n",
       "<style scoped>\n",
       "    .dataframe tbody tr th:only-of-type {\n",
       "        vertical-align: middle;\n",
       "    }\n",
       "\n",
       "    .dataframe tbody tr th {\n",
       "        vertical-align: top;\n",
       "    }\n",
       "\n",
       "    .dataframe thead th {\n",
       "        text-align: right;\n",
       "    }\n",
       "</style>\n",
       "<table border=\"1\" class=\"dataframe\">\n",
       "  <thead>\n",
       "    <tr style=\"text-align: right;\">\n",
       "      <th></th>\n",
       "      <th>fixed acidity</th>\n",
       "      <th>volatile acidity</th>\n",
       "      <th>citric acid</th>\n",
       "      <th>residual sugar</th>\n",
       "      <th>chlorides</th>\n",
       "      <th>free sulfur dioxide</th>\n",
       "      <th>total sulfur dioxide</th>\n",
       "      <th>density</th>\n",
       "      <th>pH</th>\n",
       "      <th>sulphates</th>\n",
       "      <th>alcohol</th>\n",
       "      <th>quality</th>\n",
       "    </tr>\n",
       "  </thead>\n",
       "  <tbody>\n",
       "    <tr>\n",
       "      <th>0</th>\n",
       "      <td>7.4</td>\n",
       "      <td>0.70</td>\n",
       "      <td>0.00</td>\n",
       "      <td>1.9</td>\n",
       "      <td>0.076</td>\n",
       "      <td>11.0</td>\n",
       "      <td>34.0</td>\n",
       "      <td>0.9978</td>\n",
       "      <td>3.51</td>\n",
       "      <td>0.56</td>\n",
       "      <td>9.4</td>\n",
       "      <td>5</td>\n",
       "    </tr>\n",
       "    <tr>\n",
       "      <th>1</th>\n",
       "      <td>7.8</td>\n",
       "      <td>0.88</td>\n",
       "      <td>0.00</td>\n",
       "      <td>2.6</td>\n",
       "      <td>0.098</td>\n",
       "      <td>25.0</td>\n",
       "      <td>67.0</td>\n",
       "      <td>0.9968</td>\n",
       "      <td>3.20</td>\n",
       "      <td>0.68</td>\n",
       "      <td>9.8</td>\n",
       "      <td>5</td>\n",
       "    </tr>\n",
       "    <tr>\n",
       "      <th>2</th>\n",
       "      <td>7.8</td>\n",
       "      <td>0.76</td>\n",
       "      <td>0.04</td>\n",
       "      <td>2.3</td>\n",
       "      <td>0.092</td>\n",
       "      <td>15.0</td>\n",
       "      <td>54.0</td>\n",
       "      <td>0.9970</td>\n",
       "      <td>3.26</td>\n",
       "      <td>0.65</td>\n",
       "      <td>9.8</td>\n",
       "      <td>5</td>\n",
       "    </tr>\n",
       "    <tr>\n",
       "      <th>3</th>\n",
       "      <td>11.2</td>\n",
       "      <td>0.28</td>\n",
       "      <td>0.56</td>\n",
       "      <td>1.9</td>\n",
       "      <td>0.075</td>\n",
       "      <td>17.0</td>\n",
       "      <td>60.0</td>\n",
       "      <td>0.9980</td>\n",
       "      <td>3.16</td>\n",
       "      <td>0.58</td>\n",
       "      <td>9.8</td>\n",
       "      <td>6</td>\n",
       "    </tr>\n",
       "    <tr>\n",
       "      <th>4</th>\n",
       "      <td>7.4</td>\n",
       "      <td>0.70</td>\n",
       "      <td>0.00</td>\n",
       "      <td>1.9</td>\n",
       "      <td>0.076</td>\n",
       "      <td>11.0</td>\n",
       "      <td>34.0</td>\n",
       "      <td>0.9978</td>\n",
       "      <td>3.51</td>\n",
       "      <td>0.56</td>\n",
       "      <td>9.4</td>\n",
       "      <td>5</td>\n",
       "    </tr>\n",
       "  </tbody>\n",
       "</table>\n",
       "</div>"
      ],
      "text/plain": [
       "   fixed acidity  volatile acidity  citric acid  residual sugar  chlorides  \\\n",
       "0            7.4              0.70         0.00             1.9      0.076   \n",
       "1            7.8              0.88         0.00             2.6      0.098   \n",
       "2            7.8              0.76         0.04             2.3      0.092   \n",
       "3           11.2              0.28         0.56             1.9      0.075   \n",
       "4            7.4              0.70         0.00             1.9      0.076   \n",
       "\n",
       "   free sulfur dioxide  total sulfur dioxide  density    pH  sulphates  \\\n",
       "0                 11.0                  34.0   0.9978  3.51       0.56   \n",
       "1                 25.0                  67.0   0.9968  3.20       0.68   \n",
       "2                 15.0                  54.0   0.9970  3.26       0.65   \n",
       "3                 17.0                  60.0   0.9980  3.16       0.58   \n",
       "4                 11.0                  34.0   0.9978  3.51       0.56   \n",
       "\n",
       "   alcohol  quality  \n",
       "0      9.4        5  \n",
       "1      9.8        5  \n",
       "2      9.8        5  \n",
       "3      9.8        6  \n",
       "4      9.4        5  "
      ]
     },
     "execution_count": 25,
     "metadata": {},
     "output_type": "execute_result"
    }
   ],
   "source": [
    "df.head()"
   ]
  },
  {
   "cell_type": "code",
   "execution_count": 30,
   "id": "c864d818-caf5-48b2-8b2a-e570689d873c",
   "metadata": {
    "tags": []
   },
   "outputs": [
    {
     "data": {
      "text/plain": [
       "fixed acidity           0\n",
       "volatile acidity        0\n",
       "citric acid             0\n",
       "residual sugar          0\n",
       "chlorides               0\n",
       "free sulfur dioxide     0\n",
       "total sulfur dioxide    0\n",
       "density                 0\n",
       "pH                      0\n",
       "sulphates               0\n",
       "alcohol                 0\n",
       "quality                 0\n",
       "dtype: int64"
      ]
     },
     "execution_count": 30,
     "metadata": {},
     "output_type": "execute_result"
    }
   ],
   "source": [
    "df.isnull().sum()"
   ]
  },
  {
   "cell_type": "code",
   "execution_count": 31,
   "id": "7e15bcbc-0708-426c-bacc-e5eb30d53663",
   "metadata": {
    "tags": []
   },
   "outputs": [
    {
     "name": "stderr",
     "output_type": "stream",
     "text": [
      "C:\\Users\\Rehan\\anaconda32\\Lib\\site-packages\\seaborn\\_oldcore.py:1498: FutureWarning: is_categorical_dtype is deprecated and will be removed in a future version. Use isinstance(dtype, CategoricalDtype) instead\n",
      "  if pd.api.types.is_categorical_dtype(vector):\n",
      "C:\\Users\\Rehan\\anaconda32\\Lib\\site-packages\\seaborn\\_oldcore.py:1498: FutureWarning: is_categorical_dtype is deprecated and will be removed in a future version. Use isinstance(dtype, CategoricalDtype) instead\n",
      "  if pd.api.types.is_categorical_dtype(vector):\n",
      "C:\\Users\\Rehan\\anaconda32\\Lib\\site-packages\\seaborn\\_oldcore.py:1498: FutureWarning: is_categorical_dtype is deprecated and will be removed in a future version. Use isinstance(dtype, CategoricalDtype) instead\n",
      "  if pd.api.types.is_categorical_dtype(vector):\n",
      "C:\\Users\\Rehan\\anaconda32\\Lib\\site-packages\\seaborn\\_oldcore.py:1498: FutureWarning: is_categorical_dtype is deprecated and will be removed in a future version. Use isinstance(dtype, CategoricalDtype) instead\n",
      "  if pd.api.types.is_categorical_dtype(vector):\n",
      "C:\\Users\\Rehan\\anaconda32\\Lib\\site-packages\\seaborn\\_oldcore.py:1498: FutureWarning: is_categorical_dtype is deprecated and will be removed in a future version. Use isinstance(dtype, CategoricalDtype) instead\n",
      "  if pd.api.types.is_categorical_dtype(vector):\n",
      "C:\\Users\\Rehan\\anaconda32\\Lib\\site-packages\\seaborn\\_oldcore.py:1498: FutureWarning: is_categorical_dtype is deprecated and will be removed in a future version. Use isinstance(dtype, CategoricalDtype) instead\n",
      "  if pd.api.types.is_categorical_dtype(vector):\n",
      "C:\\Users\\Rehan\\anaconda32\\Lib\\site-packages\\seaborn\\_oldcore.py:1498: FutureWarning: is_categorical_dtype is deprecated and will be removed in a future version. Use isinstance(dtype, CategoricalDtype) instead\n",
      "  if pd.api.types.is_categorical_dtype(vector):\n",
      "C:\\Users\\Rehan\\anaconda32\\Lib\\site-packages\\seaborn\\_oldcore.py:1498: FutureWarning: is_categorical_dtype is deprecated and will be removed in a future version. Use isinstance(dtype, CategoricalDtype) instead\n",
      "  if pd.api.types.is_categorical_dtype(vector):\n",
      "C:\\Users\\Rehan\\anaconda32\\Lib\\site-packages\\seaborn\\_oldcore.py:1498: FutureWarning: is_categorical_dtype is deprecated and will be removed in a future version. Use isinstance(dtype, CategoricalDtype) instead\n",
      "  if pd.api.types.is_categorical_dtype(vector):\n",
      "C:\\Users\\Rehan\\anaconda32\\Lib\\site-packages\\seaborn\\_oldcore.py:1498: FutureWarning: is_categorical_dtype is deprecated and will be removed in a future version. Use isinstance(dtype, CategoricalDtype) instead\n",
      "  if pd.api.types.is_categorical_dtype(vector):\n",
      "C:\\Users\\Rehan\\anaconda32\\Lib\\site-packages\\seaborn\\_oldcore.py:1498: FutureWarning: is_categorical_dtype is deprecated and will be removed in a future version. Use isinstance(dtype, CategoricalDtype) instead\n",
      "  if pd.api.types.is_categorical_dtype(vector):\n",
      "C:\\Users\\Rehan\\anaconda32\\Lib\\site-packages\\seaborn\\_oldcore.py:1498: FutureWarning: is_categorical_dtype is deprecated and will be removed in a future version. Use isinstance(dtype, CategoricalDtype) instead\n",
      "  if pd.api.types.is_categorical_dtype(vector):\n"
     ]
    },
    {
     "data": {
      "text/plain": [
       "<Axes: >"
      ]
     },
     "execution_count": 31,
     "metadata": {},
     "output_type": "execute_result"
    },
    {
     "data": {
      "image/png": "[encoded data removed]",
      "text/plain": [
       "<Figure size 640x480 with 1 Axes>"
      ]
     },
     "metadata": {},
     "output_type": "display_data"
    }
   ],
   "source": [
    "sns.boxplot(df)"
   ]
  },
  {
   "cell_type": "code",
   "execution_count": 32,
   "id": "5c209252-5e0a-40ac-9cf1-3e0249171ba0",
   "metadata": {
    "tags": []
   },
   "outputs": [],
   "source": [
    "for i in df:\n",
    "    q1,q3=df[i].quantile([0.25,0.75])\n",
    "    iqr=q3-q1\n",
    "    upper=q3+1.5*iqr\n",
    "    lower=q1-1.5*iqr\n",
    "    df[i]=np.where(df[i]>upper,upper,df[i])\n",
    "    df[i]=np.where(df[i]<lower,lower,df[i])"
   ]
  },
  {
   "cell_type": "code",
   "execution_count": 34,
   "id": "51a5f919-d096-4e0f-a6b0-72be264917ea",
   "metadata": {
    "tags": []
   },
   "outputs": [
    {
     "name": "stderr",
     "output_type": "stream",
     "text": [
      "C:\\Users\\Rehan\\anaconda32\\Lib\\site-packages\\seaborn\\_oldcore.py:1498: FutureWarning: is_categorical_dtype is deprecated and will be removed in a future version. Use isinstance(dtype, CategoricalDtype) instead\n",
      "  if pd.api.types.is_categorical_dtype(vector):\n",
      "C:\\Users\\Rehan\\anaconda32\\Lib\\site-packages\\seaborn\\_oldcore.py:1498: FutureWarning: is_categorical_dtype is deprecated and will be removed in a future version. Use isinstance(dtype, CategoricalDtype) instead\n",
      "  if pd.api.types.is_categorical_dtype(vector):\n",
      "C:\\Users\\Rehan\\anaconda32\\Lib\\site-packages\\seaborn\\_oldcore.py:1498: FutureWarning: is_categorical_dtype is deprecated and will be removed in a future version. Use isinstance(dtype, CategoricalDtype) instead\n",
      "  if pd.api.types.is_categorical_dtype(vector):\n",
      "C:\\Users\\Rehan\\anaconda32\\Lib\\site-packages\\seaborn\\_oldcore.py:1498: FutureWarning: is_categorical_dtype is deprecated and will be removed in a future version. Use isinstance(dtype, CategoricalDtype) instead\n",
      "  if pd.api.types.is_categorical_dtype(vector):\n",
      "C:\\Users\\Rehan\\anaconda32\\Lib\\site-packages\\seaborn\\_oldcore.py:1498: FutureWarning: is_categorical_dtype is deprecated and will be removed in a future version. Use isinstance(dtype, CategoricalDtype) instead\n",
      "  if pd.api.types.is_categorical_dtype(vector):\n",
      "C:\\Users\\Rehan\\anaconda32\\Lib\\site-packages\\seaborn\\_oldcore.py:1498: FutureWarning: is_categorical_dtype is deprecated and will be removed in a future version. Use isinstance(dtype, CategoricalDtype) instead\n",
      "  if pd.api.types.is_categorical_dtype(vector):\n",
      "C:\\Users\\Rehan\\anaconda32\\Lib\\site-packages\\seaborn\\_oldcore.py:1498: FutureWarning: is_categorical_dtype is deprecated and will be removed in a future version. Use isinstance(dtype, CategoricalDtype) instead\n",
      "  if pd.api.types.is_categorical_dtype(vector):\n",
      "C:\\Users\\Rehan\\anaconda32\\Lib\\site-packages\\seaborn\\_oldcore.py:1498: FutureWarning: is_categorical_dtype is deprecated and will be removed in a future version. Use isinstance(dtype, CategoricalDtype) instead\n",
      "  if pd.api.types.is_categorical_dtype(vector):\n",
      "C:\\Users\\Rehan\\anaconda32\\Lib\\site-packages\\seaborn\\_oldcore.py:1498: FutureWarning: is_categorical_dtype is deprecated and will be removed in a future version. Use isinstance(dtype, CategoricalDtype) instead\n",
      "  if pd.api.types.is_categorical_dtype(vector):\n",
      "C:\\Users\\Rehan\\anaconda32\\Lib\\site-packages\\seaborn\\_oldcore.py:1498: FutureWarning: is_categorical_dtype is deprecated and will be removed in a future version. Use isinstance(dtype, CategoricalDtype) instead\n",
      "  if pd.api.types.is_categorical_dtype(vector):\n",
      "C:\\Users\\Rehan\\anaconda32\\Lib\\site-packages\\seaborn\\_oldcore.py:1498: FutureWarning: is_categorical_dtype is deprecated and will be removed in a future version. Use isinstance(dtype, CategoricalDtype) instead\n",
      "  if pd.api.types.is_categorical_dtype(vector):\n",
      "C:\\Users\\Rehan\\anaconda32\\Lib\\site-packages\\seaborn\\_oldcore.py:1498: FutureWarning: is_categorical_dtype is deprecated and will be removed in a future version. Use isinstance(dtype, CategoricalDtype) instead\n",
      "  if pd.api.types.is_categorical_dtype(vector):\n"
     ]
    },
    {
     "data": {
      "image/png": "[encoded data removed]",
      "text/plain": [
       "<Figure size 640x480 with 1 Axes>"
      ]
     },
     "metadata": {},
     "output_type": "display_data"
    }
   ],
   "source": [
    "sns.boxplot(df)"
   ]
  },
  {
   "cell_type": "code",
   "execution_count": 39,
   "id": "ff8361cd-e537-4671-965e-f45f0e2c5fc1",
   "metadata": {
    "tags": []
   },
   "outputs": [],
   "source": [
    "X = df.iloc[:,:-2]"
   ]
  },
  {
   "cell_type": "code",
   "execution_count": 40,
   "id": "5f86a6ae-7e79-4913-b02f-6955a5bf3341",
   "metadata": {
    "tags": []
   },
   "outputs": [],
   "source": [
    "y = df.iloc[:,-1]"
   ]
  },
  {
   "cell_type": "code",
   "execution_count": 41,
   "id": "b83ee319-5360-4371-8182-86cbef6634d4",
   "metadata": {
    "tags": []
   },
   "outputs": [],
   "source": [
    "from sklearn.model_selection import train_test_split"
   ]
  },
  {
   "cell_type": "code",
   "execution_count": 42,
   "id": "01975575-df15-4baf-a05e-d4212cdd721a",
   "metadata": {
    "tags": []
   },
   "outputs": [],
   "source": [
    "X_train, X_test, y_train, y_test = train_test_split(X, y, test_size=0.33, random_state=42)"
   ]
  },
  {
   "cell_type": "code",
   "execution_count": 45,
   "id": "bbf8c825-ae3e-479f-88fc-3f6f491cb6d8",
   "metadata": {
    "tags": []
   },
   "outputs": [
    {
     "data": {
      "text/plain": [
       "(1071, 10)"
      ]
     },
     "execution_count": 45,
     "metadata": {},
     "output_type": "execute_result"
    }
   ],
   "source": [
    "X_train.shape"
   ]
  },
  {
   "cell_type": "code",
   "execution_count": 46,
   "id": "a012a7a1-02ae-4086-8ddd-adcc5c25bc28",
   "metadata": {
    "tags": []
   },
   "outputs": [
    {
     "data": {
      "text/plain": [
       "(528, 10)"
      ]
     },
     "execution_count": 46,
     "metadata": {},
     "output_type": "execute_result"
    }
   ],
   "source": [
    "X_test.shape"
   ]
  },
  {
   "cell_type": "markdown",
   "id": "c99b5fce-948d-4e49-92b6-8a310ee79900",
   "metadata": {
    "tags": []
   },
   "source": [
    "# Linear Regression"
   ]
  },
  {
   "cell_type": "code",
   "execution_count": 50,
   "id": "33dd0129-d2eb-4a9f-b3fe-3cb18763323d",
   "metadata": {
    "tags": []
   },
   "outputs": [],
   "source": [
    "from sklearn.linear_model import LinearRegression"
   ]
  },
  {
   "cell_type": "code",
   "execution_count": 51,
   "id": "a797abe9-403f-4d39-a10a-177e7079dc80",
   "metadata": {
    "tags": []
   },
   "outputs": [],
   "source": [
    "lr = LinearRegression()"
   ]
  },
  {
   "cell_type": "code",
   "execution_count": 52,
   "id": "2fc04841-47d2-494c-af5d-ba710a88d644",
   "metadata": {
    "tags": []
   },
   "outputs": [
    {
     "data": {
      "text/html": [
       "<style>#sk-container-id-2 {color: black;}#sk-container-id-2 pre{padding: 0;}#sk-container-id-2 div.sk-toggleable {background-color: white;}#sk-container-id-2 label.sk-toggleable__label {cursor: pointer;display: block;width: 100%;margin-bottom: 0;padding: 0.3em;box-sizing: border-box;text-align: center;}#sk-container-id-2 label.sk-toggleable__label-arrow:before {content: \"▸\";float: left;margin-right: 0.25em;color: #696969;}#sk-container-id-2 label.sk-toggleable__label-arrow:hover:before {color: black;}#sk-container-id-2 div.sk-estimator:hover label.sk-toggleable__label-arrow:before {color: black;}#sk-container-id-2 div.sk-toggleable__content {max-height: 0;max-width: 0;overflow: hidden;text-align: left;background-color: #f0f8ff;}#sk-container-id-2 div.sk-toggleable__content pre {margin: 0.2em;color: black;border-radius: 0.25em;background-color: #f0f8ff;}#sk-container-id-2 input.sk-toggleable__control:checked~div.sk-toggleable__content {max-height: 200px;max-width: 100%;overflow: auto;}#sk-container-id-2 input.sk-toggleable__control:checked~label.sk-toggleable__label-arrow:before {content: \"▾\";}#sk-container-id-2 div.sk-estimator input.sk-toggleable__control:checked~label.sk-toggleable__label {background-color: #d4ebff;}#sk-container-id-2 div.sk-label input.sk-toggleable__control:checked~label.sk-toggleable__label {background-color: #d4ebff;}#sk-container-id-2 input.sk-hidden--visually {border: 0;clip: rect(1px 1px 1px 1px);clip: rect(1px, 1px, 1px, 1px);height: 1px;margin: -1px;overflow: hidden;padding: 0;position: absolute;width: 1px;}#sk-container-id-2 div.sk-estimator {font-family: monospace;background-color: #f0f8ff;border: 1px dotted black;border-radius: 0.25em;box-sizing: border-box;margin-bottom: 0.5em;}#sk-container-id-2 div.sk-estimator:hover {background-color: #d4ebff;}#sk-container-id-2 div.sk-parallel-item::after {content: \"\";width: 100%;border-bottom: 1px solid gray;flex-grow: 1;}#sk-container-id-2 div.sk-label:hover label.sk-toggleable__label {background-color: #d4ebff;}#sk-container-id-2 div.sk-serial::before {content: \"\";position: absolute;border-left: 1px solid gray;box-sizing: border-box;top: 0;bottom: 0;left: 50%;z-index: 0;}#sk-container-id-2 div.sk-serial {display: flex;flex-direction: column;align-items: center;background-color: white;padding-right: 0.2em;padding-left: 0.2em;position: relative;}#sk-container-id-2 div.sk-item {position: relative;z-index: 1;}#sk-container-id-2 div.sk-parallel {display: flex;align-items: stretch;justify-content: center;background-color: white;position: relative;}#sk-container-id-2 div.sk-item::before, #sk-container-id-2 div.sk-parallel-item::before {content: \"\";position: absolute;border-left: 1px solid gray;box-sizing: border-box;top: 0;bottom: 0;left: 50%;z-index: -1;}#sk-container-id-2 div.sk-parallel-item {display: flex;flex-direction: column;z-index: 1;position: relative;background-color: white;}#sk-container-id-2 div.sk-parallel-item:first-child::after {align-self: flex-end;width: 50%;}#sk-container-id-2 div.sk-parallel-item:last-child::after {align-self: flex-start;width: 50%;}#sk-container-id-2 div.sk-parallel-item:only-child::after {width: 0;}#sk-container-id-2 div.sk-dashed-wrapped {border: 1px dashed gray;margin: 0 0.4em 0.5em 0.4em;box-sizing: border-box;padding-bottom: 0.4em;background-color: white;}#sk-container-id-2 div.sk-label label {font-family: monospace;font-weight: bold;display: inline-block;line-height: 1.2em;}#sk-container-id-2 div.sk-label-container {text-align: center;}#sk-container-id-2 div.sk-container {/* jupyter's `normalize.less` sets `[hidden] { display: none; }` but bootstrap.min.css set `[hidden] { display: none !important; }` so we also need the `!important` here to be able to override the default hidden behavior on the sphinx rendered scikit-learn.org. See: https://github.com/scikit-learn/scikit-learn/issues/21755 */display: inline-block !important;position: relative;}#sk-container-id-2 div.sk-text-repr-fallback {display: none;}</style><div id=\"sk-container-id-2\" class=\"sk-top-container\"><div class=\"sk-text-repr-fallback\"><pre>LinearRegression()</pre><b>In a Jupyter environment, please rerun this cell to show the HTML representation or trust the notebook. <br />On GitHub, the HTML representation is unable to render, please try loading this page with nbviewer.org.</b></div><div class=\"sk-container\" hidden><div class=\"sk-item\"><div class=\"sk-estimator sk-toggleable\"><input class=\"sk-toggleable__control sk-hidden--visually\" id=\"sk-estimator-id-2\" type=\"checkbox\" checked><label for=\"sk-estimator-id-2\" class=\"sk-toggleable__label sk-toggleable__label-arrow\">LinearRegression</label><div class=\"sk-toggleable__content\"><pre>LinearRegression()</pre></div></div></div></div></div>"
      ],
      "text/plain": [
       "LinearRegression()"
      ]
     },
     "execution_count": 52,
     "metadata": {},
     "output_type": "execute_result"
    }
   ],
   "source": [
    "lr.fit(X_train,y_train)"
   ]
  },
  {
   "cell_type": "code",
   "execution_count": 53,
   "id": "efe0a248-e7e8-4792-a25e-8f6499b63fda",
   "metadata": {
    "tags": []
   },
   "outputs": [
    {
     "data": {
      "text/plain": [
       "0.33854894093824295"
      ]
     },
     "execution_count": 53,
     "metadata": {},
     "output_type": "execute_result"
    }
   ],
   "source": [
    "lr.score(X_train,y_train)"
   ]
  },
  {
   "cell_type": "raw",
   "id": "92805146-9a61-45b0-97d6-72a851683c36",
   "metadata": {
    "tags": []
   },
   "source": [
    "# our model is not good"
   ]
  },
  {
   "cell_type": "code",
   "execution_count": 55,
   "id": "f21491ce-40b9-4754-94ed-5171825588ef",
   "metadata": {
    "tags": []
   },
   "outputs": [],
   "source": [
    "y_pred = lr.predict(X_test)"
   ]
  },
  {
   "cell_type": "code",
   "execution_count": 56,
   "id": "3763571a-9c7e-4b8b-892c-b30c8d80a15e",
   "metadata": {
    "tags": []
   },
   "outputs": [
    {
     "data": {
      "text/plain": [
       "array([5.38458314, 5.15074331, 5.72911747, 5.30123331, 5.69954407,\n",
       "       5.28138069, 5.07070128, 5.18102337, 5.81826278, 5.68422783,\n",
       "       5.76746647, 5.41419969, 5.71588116, 5.26980186, 5.603295  ,\n",
       "       6.40691441, 5.16796629, 5.63469286, 6.58860828, 5.48795205,\n",
       "       5.52314673, 5.31795586, 5.91402546, 6.3794769 , 5.50497025,\n",
       "       5.57481839, 5.90637833, 5.47889246, 5.30777013, 6.73839465,\n",
       "       5.29525422, 5.47186502, 5.59756787, 5.28128936, 5.40205856,\n",
       "       5.17387494, 6.32716088, 5.875846  , 5.47636773, 6.0158297 ,\n",
       "       5.35689238, 5.33185509, 6.161947  , 5.21698485, 6.05127959,\n",
       "       6.01136606, 6.50442818, 5.63084335, 5.02158476, 5.68233327,\n",
       "       5.13229849, 5.52324969, 5.55304363, 6.29691321, 5.05067761,\n",
       "       4.90066294, 6.11507587, 5.50898001, 5.92590753, 5.27298023,\n",
       "       5.5642119 , 6.07584507, 5.30467944, 5.61794155, 6.55000525,\n",
       "       5.55008604, 6.39843682, 5.28017779, 6.17844053, 5.35415227,\n",
       "       6.31724645, 4.98468072, 5.85637262, 5.73049879, 6.15240479,\n",
       "       5.45944361, 6.38718516, 5.71604002, 6.02982694, 6.62882552,\n",
       "       5.48057116, 6.39962616, 5.5327059 , 5.65789379, 6.03745168,\n",
       "       6.48224817, 5.26280606, 6.19236156, 6.25195693, 5.28412655,\n",
       "       5.79622748, 5.77842737, 5.86793089, 5.66171731, 5.08663465,\n",
       "       5.64023427, 5.12038126, 5.7085937 , 5.09244138, 5.43376756,\n",
       "       5.20249188, 5.1161446 , 5.78299341, 5.94261393, 5.34448844,\n",
       "       6.21891205, 5.81403676, 5.37409994, 6.0312428 , 5.49181482,\n",
       "       6.46432413, 5.16444598, 6.3869397 , 4.84834131, 5.96189123,\n",
       "       6.0861435 , 6.04341369, 5.24276746, 5.17817802, 5.46722194,\n",
       "       6.05500416, 5.39917372, 5.95059762, 4.91011243, 5.73875797,\n",
       "       5.27014584, 6.35968763, 5.70315311, 5.48371288, 5.81613675,\n",
       "       5.85637262, 5.22172742, 5.11900655, 6.22228911, 5.68233327,\n",
       "       5.28508114, 5.09541628, 5.2162091 , 5.02596557, 5.62328384,\n",
       "       6.11226167, 5.98098887, 6.14482788, 5.18180739, 6.05007164,\n",
       "       5.37699749, 5.93864212, 5.36095706, 5.77689057, 5.27022986,\n",
       "       5.66795969, 6.2684553 , 5.14665428, 5.59943742, 5.85637262,\n",
       "       6.08976383, 5.28746658, 5.97819066, 5.41295646, 5.8416489 ,\n",
       "       6.33524834, 5.89065116, 5.8866463 , 5.09245701, 5.51682473,\n",
       "       5.57266721, 5.04627243, 5.39384272, 5.02246978, 4.94119466,\n",
       "       5.13880175, 5.12637684, 6.25536529, 5.11959973, 6.27629077,\n",
       "       5.53700024, 6.44213786, 5.38405662, 5.33583145, 5.31557561,\n",
       "       4.71406279, 6.42472484, 5.6075827 , 6.72195932, 5.32852739,\n",
       "       5.59469227, 5.38731271, 5.47281661, 6.68730334, 5.11959973,\n",
       "       5.59175732, 5.81599907, 5.50826122, 6.35752451, 5.66061297,\n",
       "       5.38092791, 5.05030804, 5.36983678, 5.63786791, 6.21891205,\n",
       "       5.36994095, 5.45459324, 5.47155256, 4.96123786, 6.55931809,\n",
       "       5.67904609, 5.10231887, 6.25454151, 6.09316715, 6.07638938,\n",
       "       5.83438323, 5.67138439, 5.69062568, 6.23320474, 6.24120539,\n",
       "       5.66584863, 5.36691683, 5.15103678, 5.58727459, 5.39266517,\n",
       "       5.17122772, 6.33151255, 6.26351697, 5.87517661, 5.18365972,\n",
       "       4.84382516, 5.32755116, 6.31211394, 5.46270738, 5.59270897,\n",
       "       5.83573936, 5.08012944, 6.0272212 , 5.92806725, 5.52961186,\n",
       "       6.21891205, 5.3927278 , 6.03745168, 5.00735705, 5.21523301,\n",
       "       6.15500634, 5.04937977, 5.92492818, 5.77363632, 5.68129627,\n",
       "       5.56194147, 6.04378639, 5.35171175, 6.42090172, 4.99105318,\n",
       "       5.37811665, 5.56946324, 5.46799384, 5.48338007, 5.62058585,\n",
       "       5.16476398, 5.47280595, 5.75601161, 5.43130179, 6.46525882,\n",
       "       5.96621141, 6.31302488, 5.38405662, 6.32445019, 6.10511887,\n",
       "       6.31243791, 5.13791293, 4.74497291, 5.7146593 , 5.83727944,\n",
       "       5.12522444, 5.43227756, 5.38407096, 5.16156113, 5.31624048,\n",
       "       5.46827075, 5.64342659, 5.94180191, 6.30706708, 5.39488094,\n",
       "       6.58415485, 5.17267739, 5.38756003, 5.55689371, 5.27402154,\n",
       "       5.48837111, 5.06484664, 5.98098887, 5.08172427, 5.7912943 ,\n",
       "       5.38449472, 6.64860683, 5.52323486, 5.665636  , 5.21465674,\n",
       "       6.3211879 , 5.06838245, 6.00416705, 6.47103031, 6.28264435,\n",
       "       5.18330917, 5.07796629, 6.36818416, 5.50041574, 5.44926809,\n",
       "       5.53719471, 5.81701034, 5.66394753, 6.12748   , 6.56056799,\n",
       "       5.43219203, 5.39378576, 5.66089017, 5.69926851, 5.28128936,\n",
       "       5.71464832, 5.44718162, 5.282628  , 6.13200361, 5.02459348,\n",
       "       5.12220359, 5.92450984, 5.89831687, 5.13043206, 4.84697524,\n",
       "       5.77816385, 6.24251244, 5.30963922, 4.90066294, 6.73839465,\n",
       "       6.08458164, 6.56056799, 5.17379054, 5.18684746, 5.63920454,\n",
       "       5.89308575, 5.93303332, 6.36805747, 5.35933267, 5.50960717,\n",
       "       6.14358363, 6.7705944 , 5.86793089, 5.30861881, 5.67153437,\n",
       "       5.26261497, 6.15240479, 5.2914277 , 5.67494627, 5.93031263,\n",
       "       5.60115325, 6.49267809, 5.34481921, 5.26551112, 5.43624993,\n",
       "       5.81081495, 5.51368754, 5.2724129 , 5.57582948, 5.33823938,\n",
       "       5.74542204, 5.39760634, 5.33874781, 5.58130349, 5.55070571,\n",
       "       6.15340522, 5.9648659 , 5.44186962, 5.28070636, 5.16262366,\n",
       "       5.29136583, 5.12637684, 5.81566498, 5.75114045, 5.41774219,\n",
       "       6.0158297 , 5.21374256, 5.97063518, 5.07217618, 5.29946393,\n",
       "       5.19336253, 6.00150136, 6.42261777, 5.17034332, 6.45705301,\n",
       "       5.90949129, 6.30417417, 5.42475433, 5.42292807, 5.76516974,\n",
       "       5.52701685, 5.61582794, 5.12106156, 5.64623467, 5.77216327,\n",
       "       5.93437099, 6.42438531, 5.40205856, 5.38999445, 6.19176343,\n",
       "       5.17688204, 5.00940187, 5.7432586 , 5.41985213, 5.37255257,\n",
       "       5.78040845, 6.23837435, 5.9175621 , 5.43004368, 5.65246559,\n",
       "       5.82415171, 6.45497887, 6.49060518, 5.9510489 , 5.90794578,\n",
       "       6.02549714, 5.70204449, 6.48925978, 5.58256236, 6.4526619 ,\n",
       "       6.29046954, 5.075898  , 5.43496515, 5.22371369, 5.76033422,\n",
       "       5.63765087, 5.08102018, 5.41513521, 5.94261393, 5.27402459,\n",
       "       6.79666236, 5.10854362, 5.51637465, 4.9618853 , 6.70790175,\n",
       "       5.47319406, 5.2025734 , 5.37982066, 4.94226874, 6.00672924,\n",
       "       5.33573982, 6.33565077, 6.39791346, 5.204869  , 5.50035466,\n",
       "       4.52062943, 5.26817658, 5.51528602, 5.58225738, 5.7060105 ,\n",
       "       6.25273702, 5.80248781, 5.7783571 , 4.95025138, 5.42375662,\n",
       "       6.49902447, 6.62947506, 5.15057716, 6.2481109 , 5.05300967,\n",
       "       5.44599454, 5.19450459, 5.93586718, 5.4350137 , 5.81348972,\n",
       "       5.67995389, 5.19055831, 5.56171423, 5.72118306, 6.34872656,\n",
       "       6.30577698, 5.899092  , 5.89308575, 6.26871634, 5.50846054,\n",
       "       5.36633944, 6.16938804, 5.69954407, 5.76746647, 5.58945027,\n",
       "       6.46579323, 6.05563124, 5.58007577, 5.4847536 , 5.40065563,\n",
       "       5.71773988, 6.08078951, 5.85645785, 5.3927278 , 5.25865176,\n",
       "       6.44622291, 5.59943742, 5.0527199 , 5.21647324, 6.12818249,\n",
       "       4.86863366, 6.11226167, 4.98986385, 5.06815258, 5.23565869,\n",
       "       5.16874535, 5.42988512, 5.4178354 , 5.34481921, 5.51506623,\n",
       "       5.24299175, 5.40371568, 5.58130349, 6.34825509, 6.11555602,\n",
       "       5.60447708, 6.34825509, 5.44078928, 5.20313347, 5.51836881,\n",
       "       6.26951328, 5.62751796, 5.40547875, 5.36633944, 5.14542983,\n",
       "       5.6081462 , 5.28093491, 6.227593  , 5.96076348, 6.72293396,\n",
       "       6.54745569, 5.08054371, 4.97358305])"
      ]
     },
     "execution_count": 56,
     "metadata": {},
     "output_type": "execute_result"
    }
   ],
   "source": [
    "y_pred"
   ]
  },
  {
   "cell_type": "code",
   "execution_count": 57,
   "id": "48dc3305-65a6-4982-be4b-f3047a8aeacd",
   "metadata": {
    "tags": []
   },
   "outputs": [
    {
     "data": {
      "text/plain": [
       "803     6.0\n",
       "124     5.0\n",
       "350     6.0\n",
       "682     5.0\n",
       "1326    6.0\n",
       "       ... \n",
       "813     4.0\n",
       "377     7.0\n",
       "898     7.0\n",
       "126     5.0\n",
       "819     5.0\n",
       "Name: quality, Length: 528, dtype: float64"
      ]
     },
     "execution_count": 57,
     "metadata": {},
     "output_type": "execute_result"
    }
   ],
   "source": [
    "y_test"
   ]
  },
  {
   "cell_type": "code",
   "execution_count": 58,
   "id": "fcd64015-aae3-4487-a3ae-422c26aabd08",
   "metadata": {
    "tags": []
   },
   "outputs": [],
   "source": [
    "from sklearn.metrics import r2_score,mean_absolute_error,mean_squared_error"
   ]
  },
  {
   "cell_type": "code",
   "execution_count": 59,
   "id": "10288b55-e24e-4b67-9429-9f6429aa4eec",
   "metadata": {
    "tags": []
   },
   "outputs": [
    {
     "data": {
      "text/plain": [
       "0.3197732741321152"
      ]
     },
     "execution_count": 59,
     "metadata": {},
     "output_type": "execute_result"
    }
   ],
   "source": [
    "r2_score(y_test,y_pred)"
   ]
  },
  {
   "cell_type": "code",
   "execution_count": 64,
   "id": "ac2650b2-30bc-428d-a305-f1a078b1d341",
   "metadata": {
    "tags": []
   },
   "outputs": [],
   "source": [
    " from sklearn.linear_model import Ridge"
   ]
  },
  {
   "cell_type": "code",
   "execution_count": 85,
   "id": "a98d2736-feb2-4282-b1ea-5c42ce69e3b9",
   "metadata": {
    "tags": []
   },
   "outputs": [],
   "source": [
    "rid = Ridge(alpha=0.001)"
   ]
  },
  {
   "cell_type": "code",
   "execution_count": 86,
   "id": "db8a357f-b085-47c2-ba40-1433c69ee420",
   "metadata": {
    "tags": []
   },
   "outputs": [
    {
     "data": {
      "text/html": [
       "<style>#sk-container-id-9 {color: black;}#sk-container-id-9 pre{padding: 0;}#sk-container-id-9 div.sk-toggleable {background-color: white;}#sk-container-id-9 label.sk-toggleable__label {cursor: pointer;display: block;width: 100%;margin-bottom: 0;padding: 0.3em;box-sizing: border-box;text-align: center;}#sk-container-id-9 label.sk-toggleable__label-arrow:before {content: \"▸\";float: left;margin-right: 0.25em;color: #696969;}#sk-container-id-9 label.sk-toggleable__label-arrow:hover:before {color: black;}#sk-container-id-9 div.sk-estimator:hover label.sk-toggleable__label-arrow:before {color: black;}#sk-container-id-9 div.sk-toggleable__content {max-height: 0;max-width: 0;overflow: hidden;text-align: left;background-color: #f0f8ff;}#sk-container-id-9 div.sk-toggleable__content pre {margin: 0.2em;color: black;border-radius: 0.25em;background-color: #f0f8ff;}#sk-container-id-9 input.sk-toggleable__control:checked~div.sk-toggleable__content {max-height: 200px;max-width: 100%;overflow: auto;}#sk-container-id-9 input.sk-toggleable__control:checked~label.sk-toggleable__label-arrow:before {content: \"▾\";}#sk-container-id-9 div.sk-estimator input.sk-toggleable__control:checked~label.sk-toggleable__label {background-color: #d4ebff;}#sk-container-id-9 div.sk-label input.sk-toggleable__control:checked~label.sk-toggleable__label {background-color: #d4ebff;}#sk-container-id-9 input.sk-hidden--visually {border: 0;clip: rect(1px 1px 1px 1px);clip: rect(1px, 1px, 1px, 1px);height: 1px;margin: -1px;overflow: hidden;padding: 0;position: absolute;width: 1px;}#sk-container-id-9 div.sk-estimator {font-family: monospace;background-color: #f0f8ff;border: 1px dotted black;border-radius: 0.25em;box-sizing: border-box;margin-bottom: 0.5em;}#sk-container-id-9 div.sk-estimator:hover {background-color: #d4ebff;}#sk-container-id-9 div.sk-parallel-item::after {content: \"\";width: 100%;border-bottom: 1px solid gray;flex-grow: 1;}#sk-container-id-9 div.sk-label:hover label.sk-toggleable__label {background-color: #d4ebff;}#sk-container-id-9 div.sk-serial::before {content: \"\";position: absolute;border-left: 1px solid gray;box-sizing: border-box;top: 0;bottom: 0;left: 50%;z-index: 0;}#sk-container-id-9 div.sk-serial {display: flex;flex-direction: column;align-items: center;background-color: white;padding-right: 0.2em;padding-left: 0.2em;position: relative;}#sk-container-id-9 div.sk-item {position: relative;z-index: 1;}#sk-container-id-9 div.sk-parallel {display: flex;align-items: stretch;justify-content: center;background-color: white;position: relative;}#sk-container-id-9 div.sk-item::before, #sk-container-id-9 div.sk-parallel-item::before {content: \"\";position: absolute;border-left: 1px solid gray;box-sizing: border-box;top: 0;bottom: 0;left: 50%;z-index: -1;}#sk-container-id-9 div.sk-parallel-item {display: flex;flex-direction: column;z-index: 1;position: relative;background-color: white;}#sk-container-id-9 div.sk-parallel-item:first-child::after {align-self: flex-end;width: 50%;}#sk-container-id-9 div.sk-parallel-item:last-child::after {align-self: flex-start;width: 50%;}#sk-container-id-9 div.sk-parallel-item:only-child::after {width: 0;}#sk-container-id-9 div.sk-dashed-wrapped {border: 1px dashed gray;margin: 0 0.4em 0.5em 0.4em;box-sizing: border-box;padding-bottom: 0.4em;background-color: white;}#sk-container-id-9 div.sk-label label {font-family: monospace;font-weight: bold;display: inline-block;line-height: 1.2em;}#sk-container-id-9 div.sk-label-container {text-align: center;}#sk-container-id-9 div.sk-container {/* jupyter's `normalize.less` sets `[hidden] { display: none; }` but bootstrap.min.css set `[hidden] { display: none !important; }` so we also need the `!important` here to be able to override the default hidden behavior on the sphinx rendered scikit-learn.org. See: https://github.com/scikit-learn/scikit-learn/issues/21755 */display: inline-block !important;position: relative;}#sk-container-id-9 div.sk-text-repr-fallback {display: none;}</style><div id=\"sk-container-id-9\" class=\"sk-top-container\"><div class=\"sk-text-repr-fallback\"><pre>Ridge(alpha=0.001)</pre><b>In a Jupyter environment, please rerun this cell to show the HTML representation or trust the notebook. <br />On GitHub, the HTML representation is unable to render, please try loading this page with nbviewer.org.</b></div><div class=\"sk-container\" hidden><div class=\"sk-item\"><div class=\"sk-estimator sk-toggleable\"><input class=\"sk-toggleable__control sk-hidden--visually\" id=\"sk-estimator-id-9\" type=\"checkbox\" checked><label for=\"sk-estimator-id-9\" class=\"sk-toggleable__label sk-toggleable__label-arrow\">Ridge</label><div class=\"sk-toggleable__content\"><pre>Ridge(alpha=0.001)</pre></div></div></div></div></div>"
      ],
      "text/plain": [
       "Ridge(alpha=0.001)"
      ]
     },
     "execution_count": 86,
     "metadata": {},
     "output_type": "execute_result"
    }
   ],
   "source": [
    "rid.fit(X_train,y_train)"
   ]
  },
  {
   "cell_type": "code",
   "execution_count": 87,
   "id": "b4fe3064-3c3c-4d83-bc56-10f430929719",
   "metadata": {
    "tags": []
   },
   "outputs": [
    {
     "data": {
      "text/plain": [
       "0.32101127955290276"
      ]
     },
     "execution_count": 87,
     "metadata": {},
     "output_type": "execute_result"
    }
   ],
   "source": [
    "rid.score(X_train,y_train)"
   ]
  },
  {
   "cell_type": "code",
   "execution_count": 88,
   "id": "c7b09b05-c109-4a11-899e-56315866b269",
   "metadata": {
    "tags": []
   },
   "outputs": [],
   "source": [
    "yr_pred = rid.predict(X_test)"
   ]
  },
  {
   "cell_type": "code",
   "execution_count": 89,
   "id": "83c64182-c881-4ffb-83b7-e86cf9edd8fc",
   "metadata": {
    "tags": []
   },
   "outputs": [
    {
     "data": {
      "text/plain": [
       "array([5.38851436, 5.08335357, 5.78626583, 5.43755572, 5.69685812,\n",
       "       5.39153165, 5.03277532, 5.15023053, 5.91547313, 5.71026896,\n",
       "       5.69622946, 5.43286538, 5.78180446, 5.39432911, 5.64739832,\n",
       "       6.1941654 , 5.11567042, 5.62456222, 6.52207553, 5.4401727 ,\n",
       "       5.43741881, 5.41427306, 5.77309592, 6.15197577, 5.503388  ,\n",
       "       5.72699216, 5.98386883, 5.38997232, 5.42202114, 6.64025736,\n",
       "       5.32227517, 5.49079766, 5.78736171, 5.35552009, 5.53005828,\n",
       "       5.14739477, 6.30369233, 5.88220867, 5.44698337, 5.95534092,\n",
       "       5.46021961, 5.31270555, 6.23743528, 5.13417747, 6.08413273,\n",
       "       5.98372375, 6.49671405, 5.72759804, 4.985612  , 5.64227128,\n",
       "       5.26846513, 5.62539309, 5.42464725, 6.11306583, 5.1410972 ,\n",
       "       4.9667402 , 6.04386559, 5.57021708, 5.86151481, 5.40243507,\n",
       "       5.6167349 , 5.98767596, 5.41033629, 5.63644174, 6.30614139,\n",
       "       5.66982066, 6.23014049, 5.44500263, 6.26428223, 5.43536171,\n",
       "       6.10749981, 4.9064902 , 6.01247051, 5.67551377, 5.99868163,\n",
       "       5.44657379, 6.18092955, 5.73749978, 5.88588365, 6.47046807,\n",
       "       5.50222504, 6.25554805, 5.61854516, 5.70551186, 5.90593566,\n",
       "       6.24761376, 5.35844326, 6.06266613, 6.19249693, 5.40981155,\n",
       "       5.72688708, 5.64346461, 5.84671411, 5.63184968, 5.22590751,\n",
       "       5.78781498, 5.13956209, 5.82199868, 5.02409285, 5.49069172,\n",
       "       5.26815767, 5.26604001, 5.6656542 , 5.94587916, 5.34421824,\n",
       "       6.21229336, 5.89081257, 5.3978168 , 5.94352471, 5.47612479,\n",
       "       6.2591343 , 5.253623  , 6.40914458, 4.80348437, 5.91119536,\n",
       "       6.04526127, 5.8131217 , 5.36822791, 5.196813  , 5.49773787,\n",
       "       5.96198325, 5.48542731, 6.01393321, 5.04051604, 5.78253965,\n",
       "       5.35550661, 6.24024876, 5.69958388, 5.56865781, 5.72229658,\n",
       "       6.01247051, 5.17879142, 5.1430976 , 6.10074247, 5.64227128,\n",
       "       5.31032437, 5.16345262, 5.22453657, 5.07250488, 5.6088968 ,\n",
       "       6.2142307 , 6.11815769, 6.16620339, 5.28928365, 6.08016359,\n",
       "       5.37596766, 5.78084157, 5.31810731, 5.77329819, 5.1972154 ,\n",
       "       5.68694977, 6.19740152, 5.20052427, 5.65046656, 6.01247051,\n",
       "       6.21852831, 5.44761457, 6.06212073, 5.49202723, 5.84444626,\n",
       "       6.21127345, 5.9010248 , 5.82702177, 5.03978032, 5.46641297,\n",
       "       5.59301774, 5.0480919 , 5.50371112, 5.11040893, 5.01912681,\n",
       "       5.1711182 , 5.17831271, 6.11927752, 5.24214794, 6.03478924,\n",
       "       5.6461125 , 6.37258745, 5.419729  , 5.31359549, 5.17829946,\n",
       "       4.8574613 , 6.35102852, 5.56986055, 6.40813326, 5.44873687,\n",
       "       5.56101396, 5.41039201, 5.48329833, 6.5596016 , 5.24214794,\n",
       "       5.52962101, 5.89523479, 5.5510271 , 6.1757082 , 5.6014448 ,\n",
       "       5.46600903, 5.05149768, 5.50537876, 5.67445871, 6.21229336,\n",
       "       5.57069314, 5.31326802, 5.64569355, 4.92813836, 6.4527643 ,\n",
       "       5.55483896, 5.07316432, 6.15421925, 6.2545735 , 6.03995076,\n",
       "       5.61467842, 5.59333349, 5.90356579, 6.10737608, 6.12067126,\n",
       "       5.59642904, 5.61024185, 5.26120502, 5.44794867, 5.49361981,\n",
       "       5.22098859, 6.16988373, 6.07258645, 6.00253162, 5.08091057,\n",
       "       4.92400107, 5.40249308, 6.27053236, 5.50527999, 5.60755698,\n",
       "       5.85851097, 5.18744371, 5.90693274, 5.83392875, 5.63521556,\n",
       "       6.21229336, 5.40814486, 5.90593566, 5.11528424, 5.22306752,\n",
       "       6.11688413, 5.13270896, 5.67814727, 5.91720509, 5.84730805,\n",
       "       5.63739565, 6.08261851, 5.36204922, 6.18620816, 4.97215366,\n",
       "       5.46791484, 5.59641651, 5.55121198, 5.53866234, 5.43977551,\n",
       "       5.31049242, 5.54020662, 5.73702067, 5.52468294, 6.28945416,\n",
       "       5.83437911, 6.02097454, 5.419729  , 6.05136227, 6.09270136,\n",
       "       6.30531677, 5.16281082, 4.89118123, 5.7291507 , 5.74099045,\n",
       "       5.1565598 , 5.45825333, 5.4750507 , 5.19960954, 5.53428659,\n",
       "       5.49322131, 5.71766641, 5.7612289 , 6.34157866, 5.52569865,\n",
       "       6.45727015, 5.11672553, 5.52318524, 5.54090778, 5.31161602,\n",
       "       5.45234756, 5.14519471, 6.11815769, 5.19829565, 5.64001394,\n",
       "       5.54421469, 6.30873888, 5.80355978, 5.64683012, 5.13092529,\n",
       "       6.12373137, 5.11863546, 5.89046157, 6.39277699, 6.14656283,\n",
       "       5.26095334, 5.21011468, 6.28719081, 5.71468648, 5.46839041,\n",
       "       5.51061611, 5.72226915, 5.76695909, 5.85075503, 6.45964533,\n",
       "       5.42634164, 5.43944811, 5.611781  , 5.66510532, 5.35552009,\n",
       "       5.54729738, 5.38670878, 5.2060075 , 6.05049797, 5.12331966,\n",
       "       5.27126859, 5.77461141, 5.81755727, 5.16372552, 4.91309791,\n",
       "       5.80308254, 6.1121492 , 5.45700898, 4.9667402 , 6.64025736,\n",
       "       5.96665932, 6.45964533, 5.20520113, 5.2370589 , 5.76033509,\n",
       "       5.85070763, 5.9320318 , 6.39549421, 5.430156  , 5.45065852,\n",
       "       6.08640389, 6.59876991, 5.84671411, 5.38148711, 5.82334683,\n",
       "       5.19821448, 5.99868163, 5.30363229, 5.63217059, 5.94480544,\n",
       "       5.66458717, 6.3272954 , 5.44803369, 5.38935196, 5.48718619,\n",
       "       5.8138062 , 5.5379073 , 5.33211755, 5.43545854, 5.41336328,\n",
       "       5.65739003, 5.44233422, 5.45271518, 5.53265158, 5.67757772,\n",
       "       6.09745429, 6.0800761 , 5.53314111, 5.17885802, 5.1140658 ,\n",
       "       5.18607329, 5.17831271, 5.77236286, 5.74233291, 5.51508839,\n",
       "       5.95534092, 5.45250091, 6.03629646, 5.20012896, 5.45347865,\n",
       "       5.13608236, 5.84504534, 6.26623538, 5.17480652, 6.39501354,\n",
       "       5.83835349, 6.24860822, 5.37886434, 5.50206081, 5.66557125,\n",
       "       5.65492631, 5.63697882, 5.21033661, 5.6032795 , 5.71790544,\n",
       "       5.9140142 , 6.27509955, 5.53005828, 5.494083  , 6.08262639,\n",
       "       5.29259445, 5.14953443, 5.62723557, 5.36876547, 5.40286881,\n",
       "       5.67303782, 6.2073865 , 5.75546359, 5.43119635, 5.6374461 ,\n",
       "       5.62024823, 6.33448573, 6.33976779, 5.93222337, 5.74930661,\n",
       "       6.01673075, 5.57956348, 6.34218956, 5.57236686, 6.30980894,\n",
       "       6.11998928, 5.04938691, 5.34609656, 5.2029557 , 5.84121066,\n",
       "       5.67962675, 5.28898457, 5.46879641, 5.94587916, 5.30447393,\n",
       "       6.58867755, 5.098113  , 5.52606255, 5.10831409, 6.55137085,\n",
       "       5.51632342, 5.3645436 , 5.44334488, 4.89852513, 5.8623102 ,\n",
       "       5.32477881, 6.33362297, 6.32791473, 5.29181753, 5.58845472,\n",
       "       4.6261487 , 5.32924667, 5.57224383, 5.77289075, 5.80098233,\n",
       "       6.03158345, 5.74100739, 5.71059884, 4.95836779, 5.57647745,\n",
       "       6.40694576, 6.40923073, 5.17938135, 6.10386802, 5.07318264,\n",
       "       5.51448804, 5.13723888, 5.93712913, 5.61179652, 5.62489035,\n",
       "       5.67952804, 5.39117875, 5.62734438, 5.74006733, 6.11445548,\n",
       "       6.19581268, 5.78703784, 5.85070763, 6.26489594, 5.51841313,\n",
       "       5.58695923, 6.10951018, 5.69685812, 5.69622946, 5.52557917,\n",
       "       6.40284337, 6.08824265, 5.5411815 , 5.48613979, 5.44104071,\n",
       "       5.52896221, 5.97346914, 5.78075464, 5.40814486, 5.36190144,\n",
       "       6.38988741, 5.65046656, 5.0284921 , 5.30275502, 6.20591724,\n",
       "       4.83597303, 6.2142307 , 4.9854973 , 5.16127104, 5.2325258 ,\n",
       "       5.18351852, 5.54026878, 5.38244983, 5.44803369, 5.5637109 ,\n",
       "       5.31844214, 5.48636602, 5.53265158, 6.38422891, 6.11128627,\n",
       "       5.55057816, 6.38422891, 5.5565692 , 4.92856027, 5.43993315,\n",
       "       6.12673201, 5.62046167, 5.35607736, 5.58695923, 5.0778247 ,\n",
       "       5.39967457, 5.41471583, 6.26649889, 5.84386706, 6.65294049,\n",
       "       6.344906  , 4.99755678, 5.07195314])"
      ]
     },
     "execution_count": 89,
     "metadata": {},
     "output_type": "execute_result"
    }
   ],
   "source": [
    "yr_pred"
   ]
  },
  {
   "cell_type": "code",
   "execution_count": 90,
   "id": "6d37b127-2229-40bd-8658-65816765f124",
   "metadata": {
    "tags": []
   },
   "outputs": [
    {
     "data": {
      "text/plain": [
       "0.3249145184531863"
      ]
     },
     "execution_count": 90,
     "metadata": {},
     "output_type": "execute_result"
    }
   ],
   "source": [
    "r2_score(y_test,yr_pred)"
   ]
  },
  {
   "cell_type": "markdown",
   "id": "23219b61-d080-415d-a2b4-5e3bd6efb7c0",
   "metadata": {
    "tags": []
   },
   "source": [
    "# model is not good"
   ]
  },
  {
   "cell_type": "code",
   "execution_count": null,
   "id": "03a2222f-55ff-4b93-8f4b-1029bc00e749",
   "metadata": {},
   "outputs": [],
   "source": []
  }
 ],
 "metadata": {
  "kernelspec": {
   "display_name": "Python 3 (ipykernel)",
   "language": "python",
   "name": "python3"
  },
  "language_info": {
   "codemirror_mode": {
    "name": "ipython",
    "version": 3
   },
   "file_extension": ".py",
   "mimetype": "text/x-python",
   "name": "python",
   "nbconvert_exporter": "python",
   "pygments_lexer": "ipython3",
   "version": "3.11.5"
  }
 },
 "nbformat": 4,
 "nbformat_minor": 5
}
